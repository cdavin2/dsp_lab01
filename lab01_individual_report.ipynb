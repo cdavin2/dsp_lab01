{
 "cells": [
  {
   "cell_type": "markdown",
   "metadata": {},
   "source": [
    "<h1><center>\n",
    "    ECE 438: Digital Signal Processing with Applications<br/>\n",
    "Lab 1: Discrete and Continuous-Time Signals<br/>\n",
    "    <small>Date: </small> <br/>\n",
    "    <small>Section: </small>\n",
    "</center></h1>"
   ]
  },
  {
   "cell_type": "markdown",
   "metadata": {},
   "source": [
    "|Name|Sign|Time spent outside of lab|\n",
    "|:---:|:---:|:---:|\n",
    "|Student #1 Name [--%]|||\n",
    "|student #2 Name [--%]|||"
   ]
  },
  {
   "cell_type": "markdown",
   "metadata": {},
   "source": [
    "||Below Expectations|Lacks in some respect|Meets all expectations|\n",
    "|:---:|:---:|:---:|:---:|\n",
    "|Completeness of the report||||\n",
    "|Organization of the report One-sided, with cover sheet, answers are in the same order asquestions in the lab, copies of the questions||||\n",
    "|Quality of figures Correctly labeled with title, x-axis, y-axis, and name(s)||||\n",
    "|Understanding of continuous and discrete-time signals (15 pts) figures, questions||||\n",
    "|Ability to compute integral manually and in (30 pts) Manual computation, figures, Python codes, questions||||\n",
    "|Ability to read audio signal (5 pts)||||\n",
    "|Ability to define and display functions (1D and 2D) (35 pts) figures, Python codes, questions||||\n",
    "|Understanding of sampling (15 pts)figures, questions||||"
   ]
  },
  {
   "cell_type": "markdown",
   "metadata": {},
   "source": [
    "<h2 style=\"color:salmon;\"><left>1. Introduction</left></h2>"
   ]
  },
  {
   "cell_type": "markdown",
   "metadata": {},
   "source": [
    "The purpose of this lab is to illustrate the properties of continuous and discrete-time signals\n",
    "using digital computers and the [Python 3](https://www.python.org/) environment. A continuous-time signal\n",
    "takes on a value at every point in time, whereas a discrete-time signal is only defined at\n",
    "integer values of the “time” variable. However, while discrete-time signals can be easily\n",
    "stored and processed on a computer, it is impossible to store the values of a continuous-time\n",
    "signal for all points along a segment of the real line. In later labs, we will see that digital\n",
    "computers are actually restricted to the storage of quantized discrete-time signals. Such\n",
    "signals are appropriately known as digital signals.\n",
    "\n",
    "How then do we process continuous-time signals? In this lab, we will show that continuous-time signals may be processed by first approximating them by discrete-time signals using\n",
    "a process known as sampling. We will see that proper selection of the spacing between\n",
    "samples is crucial for an efficient and accurate approximation of a continuous-time signal.\n",
    "Excessively close spacing will lead to too much data, whereas excessively distant spacing will\n",
    "lead to a poor approximation of the continuous-time signal. Sampling will be an important\n",
    "topic in future labs, but for now we will use sampling to approximately compute some simple\n",
    "attributes of both real and synthetic signals."
   ]
  },
  {
   "cell_type": "markdown",
   "metadata": {},
   "source": [
    "<h2 style=\"color:salmon;\"><left>2. Laboratory Ethics</left></h2>"
   ]
  },
  {
   "cell_type": "markdown",
   "metadata": {},
   "source": [
    "Students are expected to behave ethically both in and out of the lab. Unethical behavior includes, but is not limited to, the following:\n",
    "\n",
    "* Possession of another person's laboratory solutions from the current or previous years.\n",
    "* Reference to, or use of another person's laboratory solutions from the current or previous years.\n",
    "* Submission of work that is not done by your laboratory group.\n",
    "* Allowing another person to copy your laboratory solutions or work.\n",
    "* Cheating on quizzes.\n",
    "\n",
    "The ECE 438 laboratory experience is meant to strengthen and deepen the student's understanding of basic concepts taught in the ECE 438 lectures and to help the student develop practical skills in applying the concepts taught in the ECE 438 course. The rules of laboratory ethics are designed to facilitate these goals. We emphasize that laboratory teaching assistants are available throughout the week to help the student both understand the basic concepts and answer the questions being asked in the laboratory exercises. By performing the laboratories independently, students will likely learn more and improve their performance in the course as a whole.\n",
    "\n",
    "Please note that it is the responsibility of the student to make sure that the content of their graded laboratories is not distributed to other students. If there is any question as to whether a given action might be considered unethical, please see the professor or the TA before you engage in such actions."
   ]
  },
  {
   "cell_type": "markdown",
   "metadata": {},
   "source": [
    "<h2 style=\"color:salmon;\"><left>3. Introduction to Jupyter Notebook</left></h2>"
   ]
  },
  {
   "cell_type": "markdown",
   "metadata": {},
   "source": [
    "Jupyter notebook is a tool that integrates the text, the code and the plots generated into a single document. In this semester, we will be using it to access lab instructions, input our own Python code and generate plots. A Jupyter notebook consists of cells, and there are two kinds of cells that are important to us: **Code** and **Markdown**.\n",
    "\n",
    "**Code** cells contain the Python code we write. You can see that there is a label `In [ ]:` to the left of a **Code** cell.\n",
    "\n",
    "**Markdown** cells contain the text that is formatted using [Markdown](https://www.markdownguide.org/getting-started/). You are also able to insert math equations in LaTex style if you know how to."
   ]
  },
  {
   "cell_type": "markdown",
   "metadata": {},
   "source": [
    "### Code"
   ]
  },
  {
   "cell_type": "markdown",
   "metadata": {},
   "source": [
    "To run a code cell, you may either click the `Run` button in the toolbar at the top, or use `Shift + Enter`. Try running the cell below that contains the Python code."
   ]
  },
  {
   "cell_type": "code",
   "execution_count": 1,
   "metadata": {},
   "outputs": [
    {
     "name": "stdout",
     "output_type": "stream",
     "text": [
      "Hello world\n"
     ]
    }
   ],
   "source": [
    "print(\"Hello world\")"
   ]
  },
  {
   "cell_type": "markdown",
   "metadata": {},
   "source": [
    "You will notice that `In [ ]:` has now changed to `In [1]:`. This means that this **Code** cell was the first to be run. Try running the cell again, you will notice that the label has now changed to `In [2]:`.\n",
    "\n",
    "Now, if you ever see the label becomes `In [*]:`, it simply means that the cell is still running. Once the cell finishes running, the asterisk in its label will be replaced by a number. If it takes too long to finish, you may interrupt the kernel by clicking the stop button to the right of the `Run` button. Try running the following cell."
   ]
  },
  {
   "cell_type": "code",
   "execution_count": 2,
   "metadata": {},
   "outputs": [],
   "source": [
    "import time\n",
    "time.sleep(3)"
   ]
  },
  {
   "cell_type": "markdown",
   "metadata": {},
   "source": [
    "### Markdown"
   ]
  },
  {
   "cell_type": "markdown",
   "metadata": {},
   "source": [
    "When you create a new cell, its default type is **Code**, but you can always change the type to **Markdown** by using the toolbar.\n",
    "\n",
    "In ECE 438 Labs, a **Markdown** cell is usually used when you would write your answer in words instead of code. Try double-clicking the following cell to enter the edit mode. \n",
    "\n",
    "Note that if are familiar with LaTex, you can insert formatted math equations in the **Markdown** cell. $ delimeters need to be used.\n",
    "\n",
    "---"
   ]
  },
  {
   "cell_type": "markdown",
   "metadata": {},
   "source": [
    "Hello world.\n",
    "\n",
    "$e^{j\\pi}+1=0$."
   ]
  },
  {
   "cell_type": "markdown",
   "metadata": {},
   "source": [
    "<h2 style=\"color:salmon;\"><left>4. Introduction to Python 3</left></h2>"
   ]
  },
  {
   "cell_type": "markdown",
   "metadata": {},
   "source": [
    "In this semester, most of the lab tasks in the ECE 438 lab will be performed using Python 3 instead of MATLAB.This section will be focusing on introducing the libraries and the basic functions in Python 3 only. The introduction of Simulink should be found in Laboratory 3.\n",
    "\n",
    "To run and perform these labs you will need Jupyter Notebook.This course utilizes the Anaconda environment since it comes with Jupyter and a Python text editor. Anaconda will be used for the laboratory computers but you are welcome to use any other alternative for your own devices, noting that you will still be required to write your experiments in a Jupyter Notebook. Appendices A, B and C cover how to install Anaconda on 3 separate operating systems and will also provide you with a list of Python 3 libraries that you will need to install on your own device if you so choose to work on the experiments on your own device. It is still heavily recommended that you work on these experiments using the laboratory computers and/or connect remotely to them.  "
   ]
  },
  {
   "cell_type": "markdown",
   "metadata": {},
   "source": [
    "<h3 style=\"color:salmon;\"><left> 4.1 Python libraries tutorial</left></h3>"
   ]
  },
  {
   "cell_type": "markdown",
   "metadata": {},
   "source": [
    "In this lab, two Python libraries will be heavily used, __*NumPy*__ and __*Matplotlib*__.\n",
    "\n",
    "[__*NumPy*__](https://numpy.org) supports multi-dimensional arrays and matrices, and provides numerous mathematical functions to be operated on these arrays and matrices.\n",
    "\n",
    "[__*Matplotlib*__](https://matplotlib.org) is a plotting library, and in this lab, we will be mainly using __*matplotlib.pyplot*__, which provides a MATLAB-like way of plotting. Please refer to [Pyplot Tutorial](https://matplotlib.org/tutorials/introductory/pyplot.html) for more detailed instructions.\n",
    "\n",
    "First of all, let's import these libraries.\n",
    "\n",
    "Execute the following blocks of code by pressing $\\mathtt{shift+enter}$."
   ]
  },
  {
   "cell_type": "code",
   "execution_count": 3,
   "metadata": {},
   "outputs": [],
   "source": [
    "import numpy as np\n",
    "import matplotlib.pyplot as plt\n",
    "import IPython.display as ipd"
   ]
  },
  {
   "cell_type": "code",
   "execution_count": 4,
   "metadata": {},
   "outputs": [],
   "source": [
    "# make sure the plot is displayed in this notebook\n",
    "%matplotlib inline\n",
    "# specify the size of the plot\n",
    "plt.rcParams['figure.figsize'] = (16, 6)\n",
    "\n",
    "# for auto-reloading extenrnal modules\n",
    "%load_ext autoreload\n",
    "%autoreload 2"
   ]
  },
  {
   "cell_type": "markdown",
   "metadata": {},
   "source": [
    "You might notice that in the first block, the modules were imported using the syntax `import [module_name] as [alias]`. \n",
    "\n",
    "Note that __np__ and __plt__ are the conventional aliases of __NumPy__ and __matplotlib.pyplot__, respectively, and we will be following the conventions throughout this and the remaining labs.\n",
    "\n",
    "You might have noticed that the file ```lab01.py``` has been imported. Throughout the course of these labs, you'll be given similar files that will contain certain functions that you will need to complete the experiment. You should not edit the files, and you will only be asked to import their functions as use them based on a specific syntax that will be given to you. "
   ]
  },
  {
   "cell_type": "markdown",
   "metadata": {},
   "source": [
    "<h3 style=\"color:red;\"><left> 4.2 Exercise: Python Libraries</left></h3>"
   ]
  },
  {
   "cell_type": "markdown",
   "metadata": {},
   "source": [
    "The code cell below contains a function named ```get_square``` that simply takes an input value ```x```, and returns its square."
   ]
  },
  {
   "cell_type": "code",
   "execution_count": 5,
   "metadata": {},
   "outputs": [],
   "source": [
    "def get_square(x):\n",
    "    return x * x"
   ]
  },
  {
   "cell_type": "markdown",
   "metadata": {},
   "source": [
    "**1. Run the following cell block to understand how the functions should be called.**"
   ]
  },
  {
   "cell_type": "code",
   "execution_count": 6,
   "metadata": {},
   "outputs": [
    {
     "name": "stdout",
     "output_type": "stream",
     "text": [
      "100\n"
     ]
    }
   ],
   "source": [
    "a = 10\n",
    "a_square = get_square(a)\n",
    "print(a_square)"
   ]
  },
  {
   "cell_type": "markdown",
   "metadata": {},
   "source": [
    "<h3 style=\"color:salmon;\"><left> 4.3 Basic Operations</left></h3>"
   ]
  },
  {
   "cell_type": "markdown",
   "metadata": {},
   "source": [
    "Like other programming languages, Python 3 provides basic types including integers, floats, strings and booleans.\n",
    "\n",
    "`print` function is usually used to print out the specified string."
   ]
  },
  {
   "cell_type": "code",
   "execution_count": 7,
   "metadata": {},
   "outputs": [
    {
     "name": "stdout",
     "output_type": "stream",
     "text": [
      "10\n",
      "13\n",
      "30\n",
      "3.3333333333333335\n",
      "3\n"
     ]
    }
   ],
   "source": [
    "a = 10               # initialize a with the value of 10\n",
    "b = a + 3            # assign a + 3 to b\n",
    "c = a * 3            # multiply a by 3\n",
    "d = a / 3            # divide a by 3\n",
    "e = a // 3           # integer division\n",
    "\n",
    "print(a)\n",
    "print(b)\n",
    "print(c)\n",
    "print(d)\n",
    "print(e)"
   ]
  },
  {
   "cell_type": "code",
   "execution_count": 8,
   "metadata": {},
   "outputs": [
    {
     "name": "stdout",
     "output_type": "stream",
     "text": [
      "3\n",
      "9\n",
      "1.7320508075688772\n",
      "True\n",
      "Hello World!\n"
     ]
    }
   ],
   "source": [
    "a = 3\n",
    "b = a ** 2           # a to the power of 2\n",
    "c = a ** 0.5         # a to the power of 0.5, or square root of a\n",
    "d = b == 9           # return True if b is 9, otherwise False\n",
    "e = \"Hello World!\"   # e is a string\n",
    "\n",
    "print(a)\n",
    "print(b)\n",
    "print(c)\n",
    "print(d)\n",
    "print(e)"
   ]
  },
  {
   "cell_type": "markdown",
   "metadata": {},
   "source": [
    "A string can also be formatted; see the examples below."
   ]
  },
  {
   "cell_type": "code",
   "execution_count": 9,
   "metadata": {},
   "outputs": [
    {
     "name": "stdout",
     "output_type": "stream",
     "text": [
      "The value of b is 9.\n",
      "The values of b and c are 9 and 1.7320508075688772.\n",
      "The values of d is 1.73205.\n",
      "The values of d is 1.73.\n"
     ]
    }
   ],
   "source": [
    "str1 = \"The value of b is {}.\".format(b)\n",
    "str2 = \"The values of b and c are {} and {}.\".format(b, c)\n",
    "str3 = \"The values of d is {:.5f}.\".format(c)  # keep only 5 numbers after the decimal point\n",
    "str4 = \"The values of d is {:.2f}.\".format(c)  # keep only 2 numbers after the decimal point\n",
    "print(str1)\n",
    "print(str2)\n",
    "print(str3)\n",
    "print(str4)"
   ]
  },
  {
   "cell_type": "markdown",
   "metadata": {},
   "source": [
    "*For* loop is also very important throughout all the labs. Run the following cell block to understand how *for* loop works in Python 3."
   ]
  },
  {
   "cell_type": "code",
   "execution_count": 10,
   "metadata": {},
   "outputs": [
    {
     "name": "stdout",
     "output_type": "stream",
     "text": [
      "0\n",
      "1\n",
      "2\n",
      "3\n",
      "4\n",
      "-----------\n",
      "3\n",
      "4\n",
      "5\n",
      "6\n",
      "7\n",
      "-----------\n",
      "3\n",
      "5\n"
     ]
    }
   ],
   "source": [
    "for i in range(5): # i starts from default 0, and ends at 4 (not 5!!!), default increment by 1\n",
    "    print(i)\n",
    "    \n",
    "print(\"-----------\")\n",
    "\n",
    "for i in range(3, 8, 1): # i starts from 3, and ends at 7 (not 8!!!), increment by 1\n",
    "    print(i)\n",
    "    \n",
    "print(\"-----------\")\n",
    "\n",
    "for i in range(3, 7, 2): # i starts from 3, and ends at 5 (not 6 or 7!!!), increment by 2\n",
    "    print(i)"
   ]
  },
  {
   "cell_type": "markdown",
   "metadata": {},
   "source": [
    "<h3 style=\"color:salmon;\"><left> 4.4. Matrices and Operations - NumPy</left></h3>"
   ]
  },
  {
   "cell_type": "markdown",
   "metadata": {},
   "source": [
    "In Python 3, an one-dimension array can be easily defined with the help of NumPy. For example, ```A = np.array([2, 4, 5, 3, 2, 10])``` creates an array with a length of $6$, where the elements are $2$, $4$, $5$, $3$, $2$ and $10$.\n",
    "\n",
    "To access the `i+1`th element, use the notation `A[i]`, where `i` is the index. **Please note that in Python 3, the index starts from 0.** If the index is negative, e.g., $-i$, then `A[-i]` is retrieving the `i`th element from the right.\n",
    "\n"
   ]
  },
  {
   "cell_type": "code",
   "execution_count": 11,
   "metadata": {},
   "outputs": [
    {
     "name": "stdout",
     "output_type": "stream",
     "text": [
      "The array is [ 2  4  5  3  2 10].\n",
      "The length of the array is 6.\n",
      "The 5th element from the left of of A is 2.\n",
      "The 2th element from the right of A is 2.\n"
     ]
    }
   ],
   "source": [
    "A = np.array([2, 4, 5, 3, 2, 10])\n",
    "N = len(A) # get the length of the array A\n",
    "print(\"The array is {}.\".format(A))\n",
    "print(\"The length of the array is {}.\".format(N))\n",
    "\n",
    "i = 4\n",
    "print(\"The {}th element from the left of of A is {}.\".format(i + 1, A[i]))\n",
    "i = -2\n",
    "print(\"The {}th element from the right of A is {}.\".format(abs(i), A[i]))"
   ]
  },
  {
   "cell_type": "markdown",
   "metadata": {},
   "source": [
    "NumPy array supports slicing, which means retrieving a subarray from the original array. The basic slicing syntax is ```v[i:j:k]```, where ```i``` is the starting index, ```j``` is the stopping index, and ```k``` is the step."
   ]
  },
  {
   "cell_type": "code",
   "execution_count": 12,
   "metadata": {},
   "outputs": [
    {
     "name": "stdout",
     "output_type": "stream",
     "text": [
      "A =  [ 2  4  5  3  2 10]\n",
      "v1 =  [5 3]\n",
      "Length of v1 is 6 == 4 - 2\n"
     ]
    }
   ],
   "source": [
    "A = np.array([2, 4, 5, 3, 2, 10])\n",
    "N = len(A)\n",
    "v1 = A[2:4:1]\n",
    "print(\"A = \", A)\n",
    "print(\"v1 = \", v1)\n",
    "print(\"Length of v1 is {} == 4 - 2\".format(len(A)))"
   ]
  },
  {
   "cell_type": "markdown",
   "metadata": {},
   "source": [
    "If the starting index is $0$, you may ignore it."
   ]
  },
  {
   "cell_type": "code",
   "execution_count": 13,
   "metadata": {},
   "outputs": [
    {
     "name": "stdout",
     "output_type": "stream",
     "text": [
      "A =  [ 2  4  5  3  2 10]\n",
      "v1 =  [2 4 5 3]\n"
     ]
    }
   ],
   "source": [
    "A = np.array([2, 4, 5, 3, 2, 10])\n",
    "N = len(A)\n",
    "v1 = A[:4:1]\n",
    "print(\"A = \", A)\n",
    "print(\"v1 = \", v1)"
   ]
  },
  {
   "cell_type": "markdown",
   "metadata": {},
   "source": [
    "If the ending index is the length of the array, you may also ignore it."
   ]
  },
  {
   "cell_type": "code",
   "execution_count": 14,
   "metadata": {},
   "outputs": [
    {
     "name": "stdout",
     "output_type": "stream",
     "text": [
      "A =  [ 2  4  5  3  2 10]\n",
      "v1 =  [ 5  3  2 10]\n"
     ]
    }
   ],
   "source": [
    "A = np.array([2, 4, 5, 3, 2, 10])\n",
    "N = len(A)\n",
    "v1 = A[2::1]\n",
    "print(\"A = \", A)\n",
    "print(\"v1 = \", v1)"
   ]
  },
  {
   "cell_type": "markdown",
   "metadata": {},
   "source": [
    "If the step size is $1$, you may ignore it."
   ]
  },
  {
   "cell_type": "code",
   "execution_count": 15,
   "metadata": {},
   "outputs": [
    {
     "name": "stdout",
     "output_type": "stream",
     "text": [
      "A =  [ 2  4  5  3  2 10]\n",
      "v1 =  [5 3]\n"
     ]
    }
   ],
   "source": [
    "A = np.array([2, 4, 5, 3, 2, 10])\n",
    "N = len(A)\n",
    "v1 = A[2:4]\n",
    "print(\"A = \", A)\n",
    "print(\"v1 = \", v1)"
   ]
  },
  {
   "cell_type": "markdown",
   "metadata": {},
   "source": [
    "Lastly, let's do some basic operations on the NumPy array."
   ]
  },
  {
   "cell_type": "code",
   "execution_count": 16,
   "metadata": {},
   "outputs": [
    {
     "name": "stdout",
     "output_type": "stream",
     "text": [
      "Multiplying every element of B by 2: [ 8  4  6  4 10 18  0 20]\n",
      "Dividing every element of B by 2: [2.  1.  1.5 1.  2.5 4.5 0.  5. ]\n",
      "Negating every element of B: [ -4  -2  -3  -2  -5  -9   0 -10]\n",
      "The element of B equals 2: [False  True False  True False False False False]\n"
     ]
    }
   ],
   "source": [
    "B = np.array([4, 2, 3, 2, 5, 9, 0, 10])\n",
    "C = B * 2\n",
    "D = B / 2\n",
    "E = -B\n",
    "F = B == 2\n",
    "\n",
    "print(\"Multiplying every element of B by 2: {}\".format(C))\n",
    "print(\"Dividing every element of B by 2: {}\".format(D))\n",
    "print(\"Negating every element of B: {}\".format(E))\n",
    "print(\"The element of B equals 2: {}\".format(F))"
   ]
  },
  {
   "cell_type": "markdown",
   "metadata": {},
   "source": [
    "<h2 style=\"color:salmon;\"><left>5. Continuous-Time Vs. Discrete-Time</left></h2>"
   ]
  },
  {
   "cell_type": "markdown",
   "metadata": {},
   "source": [
    "The introduction in [Section 1](#1.-Introduction) mentioned the important issue of representing continuous-time signals on a computer. In the following sections, we will illustrate the process of *sampling*, and demonstrate the importance of the *sampling interval* to the precision of numerical computations."
   ]
  },
  {
   "cell_type": "markdown",
   "metadata": {},
   "source": [
    "<h3 style=\"color:salmon;\"><left>5.1. Displaying Continuous-Time and Discrete-Time Signals in Python 3</left></h3>"
   ]
  },
  {
   "cell_type": "markdown",
   "metadata": {},
   "source": [
    "It is common to graph a discrete-time signal as dots in a Cartesian coordinate system. This can be done in Python 3 by using the *stem* function from *matplotlib.pyplot*."
   ]
  },
  {
   "cell_type": "markdown",
   "metadata": {},
   "source": [
    "1. Create an array with a length of $31$, ranging from $0$ to $60$, and assign it to the variable $\\mathtt{n}$. You may find the function either [np.linspace()](https://docs.scipy.org/doc/numpy/reference/generated/numpy.linspace.html) or [np.arange()](https://docs.scipy.org/doc/numpy/reference/generated/numpy.arange.html) useful.\n",
    "2. Apply $\\sin$ function on this array and assign it to the variable $\\mathtt{y}$. You should use the $\\mathtt{\\sin}()$ function in NumPy. Please refer to [np.sin()](https://docs.scipy.org/doc/numpy/reference/generated/numpy.sin.html).\n",
    "3. Stem plot this $\\sin$ wave, and do not forget the title of the plot and the labels of the axes."
   ]
  },
  {
   "cell_type": "code",
   "execution_count": 17,
   "metadata": {},
   "outputs": [
    {
     "data": {
      "image/png": "[encoded data removed]",
      "text/plain": [
       "<Figure size 1152x432 with 1 Axes>"
      ]
     },
     "metadata": {
      "needs_background": "light"
     },
     "output_type": "display_data"
    }
   ],
   "source": [
    "# 1\n",
    "n = np.linspace(0, 60, 31) # create an NumPy array, [0, 2, 4, ..., 58, 60]\n",
    "# or\n",
    "n = np.arange(0, 61, 2) \n",
    "# or\n",
    "n = np.arange(61)[::2] # create an NumPy array, [0, 1, 2, ..., 59, 60], and then take every other element\n",
    "\n",
    "# 2\n",
    "y = np.sin(n / 6)\n",
    "\n",
    "# 3\n",
    "plt.stem(n, y, use_line_collection=True)\n",
    "plt.title(r\"$\\sin(\\frac{n}{6})$\")\n",
    "plt.xlabel(r\"$n$\")\n",
    "plt.show()"
   ]
  },
  {
   "cell_type": "markdown",
   "metadata": {},
   "source": [
    "This plot shows the discrete-time signal formed by computing the values of the function $\\sin(t/6)$ at points that are uniformly spaced at intervals of size $\\frac{60-0}{31-1}=2$."
   ]
  },
  {
   "cell_type": "markdown",
   "metadata": {},
   "source": [
    "A digital computer cannot store all points of a continuous-time signal since this would require an infinite amount of memory. It is, however, possible to plot a signal which *looks like* a continuous-time signal, by computing the value of the signal at closely spaced points in time, and then connecting the plotted points with lines. The `plt.plot` function may be used to generate such plots."
   ]
  },
  {
   "cell_type": "markdown",
   "metadata": {},
   "source": [
    "<h3 style=\"color:red;\"><left>Exercise 5.2</left></h3>"
   ]
  },
  {
   "cell_type": "markdown",
   "metadata": {},
   "source": [
    "**_1. Use the following instructions to generate two continuous-time plots of the signal: $\\sin(t/6)$._**"
   ]
  },
  {
   "cell_type": "markdown",
   "metadata": {},
   "source": [
    "1. Initialize ```n1```, a NumPy array starting from 0 and ending at 60, with a step size of 2 (i.e., 31 elements).\n",
    "2. Initialize ```z=sin(n1 / 6)```, using the function ```np.sin(x)```.\n",
    "3. Create the plot, using the function ```plt.plot(x, y)```."
   ]
  },
  {
   "cell_type": "code",
   "execution_count": 18,
   "metadata": {},
   "outputs": [],
   "source": [
    "# insert your code here\n"
   ]
  },
  {
   "cell_type": "markdown",
   "metadata": {},
   "source": [
    "1. Initialize ```n2```, a NumPy array starting from 0 and ending at 60, with a step size of 10 (i.e., 7 elements).\n",
    "2. Initialize ```w=sin(n2 / 6)```, using the function ```np.sin(x)```$.\n",
    "3. Create the plot, using the function ```plt.plot(x, y)```."
   ]
  },
  {
   "cell_type": "code",
   "execution_count": 19,
   "metadata": {},
   "outputs": [],
   "source": [
    "# insert your code here\n"
   ]
  },
  {
   "cell_type": "markdown",
   "metadata": {},
   "source": [
    "**_2. Comment on the accuracy of each of the continuous time plots._**"
   ]
  },
  {
   "cell_type": "markdown",
   "metadata": {},
   "source": [
    "insert your answer here"
   ]
  },
  {
   "cell_type": "markdown",
   "metadata": {},
   "source": [
    "<h3 style=\"color:salmon;\"><left>5.3. Vector Index versus Time</left></h3>"
   ]
  },
  {
   "cell_type": "markdown",
   "metadata": {},
   "source": [
    "We saw in [Section 4.1](#4.1.-Displaying-Continuous-Time-and-Discrete-Time-Signals-in-Python-3) that the samples of a continuous-time signal, say $x(t)$, can be stored in a NumPy array. It is common practice to use the same variable for the vector and the signal. So one often denotes the samples of $x(t)$ by $x[n]$, even though this is an abuse of notation and lacks rigor.\n",
    "\n",
    "It is important not to confuse the index of a vector $x[n]$ with the value of the independent variable of a function $x(t)$. For example, Python 3 can be used to represent the function $x(t)=\\sin(t)$ by sampling $t$ at small intervals. The resulting samples may be stored in a NumPy array called `x` in your program. However, it is important to realize that the function $x$ and the NumPy array `x` in the program are not the same things. The following code illustrates this."
   ]
  },
  {
   "cell_type": "code",
   "execution_count": 20,
   "metadata": {},
   "outputs": [],
   "source": [
    "t1 = np.linspace(-10, 10, 201)\n",
    "x = np.sin(t1)"
   ]
  },
  {
   "cell_type": "code",
   "execution_count": 21,
   "metadata": {},
   "outputs": [
    {
     "data": {
      "image/png": "[encoded data removed]",
      "text/plain": [
       "<Figure size 1152x432 with 1 Axes>"
      ]
     },
     "metadata": {
      "needs_background": "light"
     },
     "output_type": "display_data"
    }
   ],
   "source": [
    "plt.plot(x)\n",
    "plt.show()"
   ]
  },
  {
   "cell_type": "code",
   "execution_count": 22,
   "metadata": {},
   "outputs": [
    {
     "data": {
      "image/png": "[encoded data removed]",
      "text/plain": [
       "<Figure size 1152x432 with 1 Axes>"
      ]
     },
     "metadata": {
      "needs_background": "light"
     },
     "output_type": "display_data"
    }
   ],
   "source": [
    "plt.plot(t1, x)\n",
    "plt.show()"
   ]
  },
  {
   "cell_type": "code",
   "execution_count": 23,
   "metadata": {},
   "outputs": [
    {
     "data": {
      "image/png": "[encoded data removed]",
      "text/plain": [
       "<Figure size 1152x432 with 1 Axes>"
      ]
     },
     "metadata": {
      "needs_background": "light"
     },
     "output_type": "display_data"
    }
   ],
   "source": [
    "t2 = np.linspace(0, 20, 201)\n",
    "plt.plot(t2, x)\n",
    "plt.show()"
   ]
  },
  {
   "cell_type": "markdown",
   "metadata": {},
   "source": [
    "<h3 style=\"color:red;\"><left>Exercise 5.4</left></h3>"
   ]
  },
  {
   "cell_type": "markdown",
   "metadata": {},
   "source": [
    "**1. Run the code above and explain the difference between the three signals represented.** \n",
    "\n",
    "**Hint:** Click on the cell and change it from being a ```Markdown``` type to ```Code``` type."
   ]
  },
  {
   "cell_type": "code",
   "execution_count": 24,
   "metadata": {},
   "outputs": [],
   "source": [
    "# insert your code here\n"
   ]
  },
  {
   "cell_type": "markdown",
   "metadata": {},
   "source": [
    "insert your answer here"
   ]
  },
  {
   "cell_type": "markdown",
   "metadata": {},
   "source": [
    "**2. Write Python 3 code that would print the graph of $\\sin(t)$ for the values of $t$ on the interval [3.5, 4.5]. (Pick a suitable increment for $t$.)**"
   ]
  },
  {
   "cell_type": "code",
   "execution_count": 25,
   "metadata": {},
   "outputs": [],
   "source": [
    "# insert your code here\n"
   ]
  },
  {
   "cell_type": "markdown",
   "metadata": {},
   "source": [
    "<h3 style=\"color:red;\"><left>Exercise 5.5</left></h3>"
   ]
  },
  {
   "cell_type": "markdown",
   "metadata": {},
   "source": [
    "**1. Compute these two integrals on a blank sheet of paper. Do the computations manually.**\n",
    "\n",
    "1. $\\begin{align}\\int_0^{2\\pi}\\sin^2(7t)dt\\end{align}$\n",
    "2. $\\begin{align}\\int_0^1e^tdt\\end{align}$"
   ]
  },
  {
   "cell_type": "markdown",
   "metadata": {},
   "source": [
    "insert your answer here"
   ]
  },
  {
   "cell_type": "markdown",
   "metadata": {},
   "source": [
    "<h3 style=\"color:salmon;\"><left>5.6. Numerical Computation of Continuous-Time Signals</left></h3>"
   ]
  },
  {
   "cell_type": "markdown",
   "metadata": {},
   "source": [
    "One common calculation on continuous-time signals is integration. Figure 1 illustrates a method used for computing the widely used Riemann integral. The Riemann integral approximates the area under a curve by breaking the region into many rectangles and summing their areas. Each rectangle is chosen to have the same width $\\Delta t$, and the height of each rectangle is the value of the function at the start of the rectangle's interval.\n",
    "\n",
    "<figure>\n",
    "    <img src=\"imgs/lab01_figure1.png\" style=\"width:50%\" alt=\"Figure 1\">\n",
    "    <em><center>Figure 1: Illustration of the Riemann integral</center></em>\n",
    "</figure>"
   ]
  },
  {
   "cell_type": "markdown",
   "metadata": {},
   "source": [
    "<h3 style=\"color:red;\"><left>Exercise 5.7</left></h3>"
   ]
  },
  {
   "cell_type": "markdown",
   "metadata": {},
   "source": [
    "**1. To see the effects of using a different number points to represent a continuous-time signal, write a Python function for numerically computing the integral of the function $\\sin^2(7t)$ over the interval $[0,2\\pi]$. The syntax of the function is**\n",
    "```python\n",
    "def integ1(N):\n",
    "    \"\"\"\n",
    "    Parameters\n",
    "    ---\n",
    "    N: the number of rectangles\n",
    "    \n",
    "    Returns\n",
    "    ---\n",
    "    I: the approximate integral\n",
    "    \"\"\"\n",
    "    return I\n",
    "```\n",
    "**where `I` is the result to be returned and `N` is the number of rectangles used to approximate the integral. This function should use the `np.sum` function and it should NOT contain any *for* loops!**\n",
    "\n",
    "**Note:** Since Python is an *interpreted* language, *for* loops are relatively slow. Therefore, we will avoid using loops whenever possible.</font>"
   ]
  },
  {
   "cell_type": "code",
   "execution_count": 26,
   "metadata": {},
   "outputs": [],
   "source": [
    "# insert your code here\n"
   ]
  },
  {
   "cell_type": "markdown",
   "metadata": {},
   "source": [
    "**2. Write a script in a different block that evaluates $I(N)$ for $1\\leqslant N\\leqslant 100$, stores the result in a NumPy array and plots the resulting array as a function of $N$. This script may contain _for_ loops.**\n",
    "\n",
    "**Note**: This script should call the function\n",
    "```python\n",
    "def integ1(N)\n",
    "```\n",
    "you just completed."
   ]
  },
  {
   "cell_type": "code",
   "execution_count": 27,
   "metadata": {},
   "outputs": [],
   "source": [
    "# insert your code here\n"
   ]
  },
  {
   "cell_type": "markdown",
   "metadata": {},
   "source": [
    "**3. Write a second function `J = integ2(N)` which numerically computes the integral of $e^t$ on the interval [0, 1].** The syntax of the function is\n",
    "\n",
    "```python\n",
    "def integ2(N):\n",
    "    \"\"\"\n",
    "    Parameters\n",
    "    ---\n",
    "    N: the number of rectangles\n",
    "    \n",
    "    Returns\n",
    "    ---\n",
    "    J: the approximate integral\n",
    "    \"\"\"\n",
    "    return J\n",
    "```"
   ]
  },
  {
   "cell_type": "code",
   "execution_count": 28,
   "metadata": {},
   "outputs": [],
   "source": [
    "# insert your code here\n"
   ]
  },
  {
   "cell_type": "markdown",
   "metadata": {},
   "source": [
    "**4. Write a script in the next block that evaluates $J(N)$ for $1\\leqslant N\\leqslant 100$, stores the result in a NumPy array and plots the resulting array as a function of $N$. This script may contain _for_ loops.**\n",
    "\n",
    "**Note**: This script should call the function\n",
    "```python\n",
    "def integ2(N)\n",
    "```\n",
    "you just completed."
   ]
  },
  {
   "cell_type": "code",
   "execution_count": 29,
   "metadata": {},
   "outputs": [],
   "source": [
    "# insert your code here\n"
   ]
  },
  {
   "cell_type": "markdown",
   "metadata": {},
   "source": [
    "**5. Compare your results to the analytical solutions from Section 4.3. Explain why $I(7)=I(14)=0$.**"
   ]
  },
  {
   "cell_type": "markdown",
   "metadata": {},
   "source": [
    "insert your answer here"
   ]
  },
  {
   "cell_type": "markdown",
   "metadata": {},
   "source": [
    "<h2 style=\"color:salmon;\"><left>6. Processing of Speech Signals</left></h2>"
   ]
  },
  {
   "cell_type": "markdown",
   "metadata": {},
   "source": [
    "Digital signal processing is widely used in speech processing for applications ranging from speech compression and transmission, to speech recognition and speaker identification. This exercise will introduce the process of reading and manipulating a speech signal."
   ]
  },
  {
   "cell_type": "markdown",
   "metadata": {},
   "source": [
    "<h3 style=\"color:red;\"><left>Exercise 6.1</left></h3>"
   ]
  },
  {
   "cell_type": "markdown",
   "metadata": {},
   "source": [
    "**1. Import `soundfile` module, and use `sf` as the alias.**"
   ]
  },
  {
   "cell_type": "code",
   "execution_count": 30,
   "metadata": {},
   "outputs": [],
   "source": [
    "# insert your code here\n"
   ]
  },
  {
   "cell_type": "markdown",
   "metadata": {},
   "source": [
    "**2. Do the following:**\n",
    "\n",
    "1. Use the function [```speech, fs = sf.read(\"speech.au\")```](https://pysoundfile.readthedocs.io/en/latest/#read-write-functions) to load file _speech.au_ into Python. Note that this function returns two arguments, where the first one is the data, and the second one is the sampling rate.\n",
    "2. Play the signal, using the command ```ipd.Audio(speech, rate=fs)```.\n",
    "3. Plot the signal on the screen as if it were a continuous-time signal (i.e., use the `plt.plot` command)."
   ]
  },
  {
   "cell_type": "code",
   "execution_count": 31,
   "metadata": {},
   "outputs": [],
   "source": [
    "# insert your code here\n"
   ]
  },
  {
   "cell_type": "markdown",
   "metadata": {},
   "source": [
    "<h2 style=\"color:salmon;\"><left>7. Special Functions</left></h2>"
   ]
  },
  {
   "cell_type": "markdown",
   "metadata": {},
   "source": [
    "<h3 style=\"color:red;\"><left>Exercise 7.1</left></h3>"
   ]
  },
  {
   "cell_type": "markdown",
   "metadata": {},
   "source": [
    "**Plot the following two continuous-time functions over the specified intervals.**"
   ]
  },
  {
   "cell_type": "markdown",
   "metadata": {},
   "source": [
    "1\\. $\\begin{align}\\begin{cases}\\frac{\\sin(\\pi t)}{\\pi t}&t\\neq0\\\\1&t=0\\end{cases}\\quad\\text{for }t\\in[-10\\pi,10\\pi]\\end{align}$"
   ]
  },
  {
   "cell_type": "markdown",
   "metadata": {},
   "source": [
    "2\\. $\\begin{align}\\text{rect}(t)\\quad\\text{for }t\\in[-2,2]\\end{align}$"
   ]
  },
  {
   "cell_type": "markdown",
   "metadata": {},
   "source": [
    "**Hint**: The function $\\mathtt{rect}()$ may be computed in Python by using a Boolean expression. For example, if\n",
    "```python\n",
    "t = np.linspace(-10, 10, 201)\n",
    "```\n",
    "then $y=\\text{rect}(t)$ may be computed using the command\n",
    "```python\n",
    "y = (abs(t) <= 0.5).astype(float)\n",
    "```"
   ]
  },
  {
   "cell_type": "code",
   "execution_count": 32,
   "metadata": {},
   "outputs": [],
   "source": [
    "# insert your code here\n"
   ]
  },
  {
   "cell_type": "markdown",
   "metadata": {},
   "source": [
    "<h3 style=\"color:red;\"><left>Exercise 7.2</left></h3>"
   ]
  },
  {
   "cell_type": "markdown",
   "metadata": {},
   "source": [
    "**1. For each of the following functions, write a Python function that takes two arguments, `a` and `n`. Then write the script below to stem those 2 discrete-time functions for $a=0.8$, $a=1.0$ and $a=1.5$, by calling the Python functions you just wrote.**"
   ]
  },
  {
   "cell_type": "markdown",
   "metadata": {},
   "source": [
    "1\\. $\\begin{align}a^n(u[n]-u[n-10])\\quad\\text{for }n\\in[-20,20]\\end{align}$"
   ]
  },
  {
   "cell_type": "markdown",
   "metadata": {},
   "source": [
    "2\\. $\\begin{align}\\cos(\\omega n)a^nu[n]\\quad\\text{for }\\omega=\\pi/4,\\text{ and }n\\in[-1,10]\\end{align}$"
   ]
  },
  {
   "cell_type": "markdown",
   "metadata": {},
   "source": [
    "The syntax of the functions should be:\n",
    "\n",
    "```python\n",
    "    def func_7_2_1(a, n):\n",
    "        pass\n",
    "```\n",
    "\n",
    "and \n",
    "\n",
    "```python\n",
    "    def func_7_2_2(a, n):\n",
    "        pass\n",
    "```"
   ]
  },
  {
   "cell_type": "markdown",
   "metadata": {},
   "source": [
    "**Hint**: The unit step function $y=u[n]$ may be computed in Python 3 using the command\n",
    "```python\n",
    "y = (n >= 0).astype(float)\n",
    "```\n",
    "where $\\mathtt{n}$ is a vector of values of time indices."
   ]
  },
  {
   "cell_type": "code",
   "execution_count": 33,
   "metadata": {},
   "outputs": [],
   "source": [
    "# insert your code here\n"
   ]
  },
  {
   "cell_type": "markdown",
   "metadata": {},
   "source": [
    "<h2 style=\"color:salmon;\"><left>8. Sampling</left></h2>"
   ]
  },
  {
   "cell_type": "markdown",
   "metadata": {},
   "source": [
    "The word _sampling_ refers to the conversion of a continuous-time signal into a discrete-time signal. The signal is converted by taking its value, or sample, at uniformly spaced points in time. The time between two consecutive samples is called the _sampling period_. For example, a sampling period of $0.1$ seconds implies that the value of the signal is stored every $0.1$ seconds."
   ]
  },
  {
   "cell_type": "markdown",
   "metadata": {},
   "source": [
    "<h3 style=\"color:red;\"><left>Exercise 8.1</left></h3>"
   ]
  },
  {
   "cell_type": "markdown",
   "metadata": {},
   "source": [
    "Consider the signal $f(t)=\\sin(2\\pi t)$. We may form a discrete-time signal, $x[n]$, by sampling this signal with a period of $T_s$. In this case,\n",
    "\n",
    "$\\begin{align}x(n)=f(T_sn)=\\sin(2\\pi T_sn)\\end{align}$"
   ]
  },
  {
   "cell_type": "markdown",
   "metadata": {},
   "source": [
    "**1. Firstly,using the previously presented signal, complete the following function**\n",
    "\n",
    "```python\n",
    "def func_8(Ts, n):\n",
    "    pass\n",
    "```"
   ]
  },
  {
   "cell_type": "code",
   "execution_count": 34,
   "metadata": {},
   "outputs": [],
   "source": [
    "# insert your code here\n"
   ]
  },
  {
   "cell_type": "markdown",
   "metadata": {},
   "source": [
    "**2. Use the ```plt.stem``` to plot the function $f(T_sn)$ defined above for the following values of $T_s$ and $n$.** \n",
    "\n",
    "**Note:** Your code should call the function defined above."
   ]
  },
  {
   "cell_type": "markdown",
   "metadata": {},
   "source": [
    "1\\. $\\begin{align}T_s=1/10,0\\leqslant n\\leqslant 100;\\quad\\text{axis}([0, 100, -1, 1])\\end{align}$"
   ]
  },
  {
   "cell_type": "markdown",
   "metadata": {},
   "source": [
    "2\\. $\\begin{align}T_s=1/3,0\\leqslant n\\leqslant 30;\\quad\\text{axis}([0, 30, -1, 1])\\end{align}$"
   ]
  },
  {
   "cell_type": "markdown",
   "metadata": {},
   "source": [
    "3\\. $\\begin{align}T_s=1/2,0\\leqslant n\\leqslant 20;\\quad\\text{axis}([0, 20, -1, 1])\\end{align}$"
   ]
  },
  {
   "cell_type": "markdown",
   "metadata": {},
   "source": [
    "4\\. $\\begin{align}T_s=10/9,0\\leqslant n\\leqslant 9;\\quad\\text{axis}([0, 9, -1, 1])\\end{align}$"
   ]
  },
  {
   "cell_type": "code",
   "execution_count": 35,
   "metadata": {},
   "outputs": [],
   "source": [
    "# insert your code here\n"
   ]
  },
  {
   "cell_type": "markdown",
   "metadata": {},
   "source": [
    "**3. Discuss your results obtained from the 4 plots above. How does the sampled version of the signal with $T_s=1/10$ compare to those with $T_s=1/3$, $T_s=1/2$ and $T_2=10/9$?**"
   ]
  },
  {
   "cell_type": "markdown",
   "metadata": {},
   "source": [
    "insert your answer here"
   ]
  },
  {
   "cell_type": "markdown",
   "metadata": {},
   "source": [
    "<h2 style=\"color:salmon;\"><left>9. 2-D Signals</left></h2>"
   ]
  },
  {
   "cell_type": "markdown",
   "metadata": {},
   "source": [
    "So far we have only considered 1-D signals such as speech signals. However, 2-D signals are also very important in digital signal processing. For example, the elevation at each point on a map, or the color at each point on a photograph are examples of important 2-D signals. As in the 1-D case, we may distinguish between continuous-space and discrete-space signals. However in this section, we will restrict attention to discrete-space 2-D signals."
   ]
  },
  {
   "cell_type": "markdown",
   "metadata": {},
   "source": [
    "<h3 style=\"color:red;\"><left>Exercise 9.1</left></h3>"
   ]
  },
  {
   "cell_type": "markdown",
   "metadata": {},
   "source": [
    "When working with 2-D signals, we may choose to visualize them as images or as 2-D surfaces in a 3-D space. To demonstrate the differences between these two approaches, we will use two different display techniques in Python. Do the following:"
   ]
  },
  {
   "cell_type": "markdown",
   "metadata": {},
   "source": [
    "**1. Use the ```np.meshgrid``` command to generate the discrete-space 2-D signal $\\begin{align}f[m,n]=255|\\text{sinc}(0.2m)\\text{sinc}(0.2n)|\\end{align}$ for $-20\\leqslant m \\leqslant 20$ and $-20 \\leqslant n\\leqslant 20$.**"
   ]
  },
  {
   "cell_type": "code",
   "execution_count": 36,
   "metadata": {},
   "outputs": [],
   "source": [
    "# insert your code here\n"
   ]
  },
  {
   "cell_type": "markdown",
   "metadata": {},
   "source": [
    "**2. Use the following code to display the signal as a surface plot.**"
   ]
  },
  {
   "cell_type": "code",
   "execution_count": 37,
   "metadata": {},
   "outputs": [],
   "source": [
    "# refer to https://matplotlib.org/3.1.0/gallery/mplot3d/surface3d.html\n",
    "\n",
    "from mpl_toolkits.mplot3d import Axes3D\n",
    "from matplotlib import cm\n",
    "from matplotlib.ticker import LinearLocator, FormatStrFormatter\n",
    "\n",
    "def mesh_plot(X, Y, Z, title, xlabel, ylabel):\n",
    "    fig = plt.figure()\n",
    "    ax = fig.gca(projection='3d')\n",
    "    surf = ax.plot_surface(X, Y, Z, cmap=cm.coolwarm, linewidth=2, antialiased=True)\n",
    "    ax.zaxis.set_major_locator(LinearLocator(10))\n",
    "    ax.zaxis.set_major_formatter(FormatStrFormatter('%.02f'))\n",
    "    # Add a color bar which maps values to colors.\n",
    "    fig.colorbar(surf, shrink=0.5, aspect=5)\n",
    "    plt.xlabel(xlabel)\n",
    "    plt.ylabel(ylabel)\n",
    "    plt.title(title)\n",
    "    plt.show()"
   ]
  },
  {
   "cell_type": "markdown",
   "metadata": {},
   "source": [
    "**3. Display the signal as an image. Use the function attribute ```cmap='gray'``` inside the ```plt.imshow()``` command to obtain a grayscale image.**"
   ]
  },
  {
   "cell_type": "code",
   "execution_count": 38,
   "metadata": {},
   "outputs": [],
   "source": [
    "# insert your code here\n"
   ]
  },
  {
   "cell_type": "markdown",
   "metadata": {},
   "source": [
    "**4. For which applications do you think the surface plot works better? When would you prefer the image?**"
   ]
  },
  {
   "cell_type": "markdown",
   "metadata": {},
   "source": [
    "insert your answer here"
   ]
  },
  {
   "cell_type": "markdown",
   "metadata": {},
   "source": [
    "<h2 style=\"color:salmon;\"><left>10. 2D Random Signals - Optional Exercise</left></h2>"
   ]
  },
  {
   "cell_type": "markdown",
   "metadata": {},
   "source": [
    "The objective of this section is to show how to recover a signal from noisy observations of that signal.\n",
    "\n",
    "**1. Generate one $100\\times100$ image with a $10\\times10$ white square in the middle (pixel value $110$) on a black background (pixel value $100$). Add a random number to each pixel value of the image. The random number for each pixel should be generated independently following a uniform distribution on the interval $[-100,100]$. Use the Python command ```np.random.rand()``` to generate these random numbers.**\n",
    "\n",
    "**Hint**: While command ```np.random.rand()``` generates a sample of a uniform random variable on the interval $[0,1]$, the command ```np.random.rand() - 3``` will generate a sample from uniform random variable on the interval $[-3,-2]$, and the command ```7 * np.random.rand()``` will generate a sample from uniform random variable on the interval $[0,7]$."
   ]
  },
  {
   "cell_type": "code",
   "execution_count": 39,
   "metadata": {},
   "outputs": [],
   "source": [
    "# insert your code here\n"
   ]
  },
  {
   "cell_type": "markdown",
   "metadata": {},
   "source": [
    "**2. Having added a random number to each pixel of the square image, you have created a \"noisy observation\" of the square image. Display the resulting 2D signal (the noisy observation) as an image using the command `plt.imshow()` (e.g., `plt.imshow(X,[])`.)**"
   ]
  },
  {
   "cell_type": "code",
   "execution_count": 40,
   "metadata": {},
   "outputs": [],
   "source": [
    "# insert your code here\n"
   ]
  },
  {
   "cell_type": "markdown",
   "metadata": {},
   "source": [
    "**3. Can you distinguish the square in the center of the noisy image?**"
   ]
  },
  {
   "cell_type": "markdown",
   "metadata": {},
   "source": [
    "insert your answer here"
   ]
  },
  {
   "cell_type": "markdown",
   "metadata": {},
   "source": [
    "**4. Repeat this procedure to generate 99 additional (different) noisy observations of the image of the square. Obtain a new image by averaging the pixel values of each of these $100$ images. Plot the resulting new image.**\n",
    "\n",
    "**Hint**: Create a 3-d NumPy array by ```image_arr = np.zeros((N, H, W))```, where $N=100$ is the number of images, $H=100$ is the height of the image and $W=100$ is the width of the image. You may assign values to this 3-d array by using a *for* loop, then use the function ```np.mean(images, axis=0)``` to take the average of the pixel values of each of these $100$ images."
   ]
  },
  {
   "cell_type": "code",
   "execution_count": 41,
   "metadata": {},
   "outputs": [],
   "source": [
    "# insert your code here\n"
   ]
  },
  {
   "cell_type": "markdown",
   "metadata": {},
   "source": [
    "**5. Can you distinguish the square in the center of the new image?**"
   ]
  },
  {
   "cell_type": "markdown",
   "metadata": {},
   "source": [
    "insert your answer here"
   ]
  }
 ],
 "metadata": {
  "kernelspec": {
   "display_name": "Python 3 (ipykernel)",
   "language": "python",
   "name": "python3"
  },
  "language_info": {
   "codemirror_mode": {
    "name": "ipython",
    "version": 3
   },
   "file_extension": ".py",
   "mimetype": "text/x-python",
   "name": "python",
   "nbconvert_exporter": "python",
   "pygments_lexer": "ipython3",
   "version": "3.8.1"
  }
 },
 "nbformat": 4,
 "nbformat_minor": 2
}
